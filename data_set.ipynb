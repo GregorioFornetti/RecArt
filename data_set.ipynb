{
 "cells": [
  {
   "attachments": {},
   "cell_type": "markdown",
   "metadata": {},
   "source": [
    "# Resize de imagem"
   ]
  },
  {
   "cell_type": "code",
   "execution_count": 1,
   "metadata": {},
   "outputs": [],
   "source": [
    "import tensorflow as tf\n",
    "import numpy as np\n",
    "import matplotlib.pyplot as plt"
   ]
  },
  {
   "cell_type": "code",
   "execution_count": 2,
   "metadata": {},
   "outputs": [
    {
     "name": "stdout",
     "output_type": "stream",
     "text": [
      "(733, 1024, 3)\n",
      "tf.Tensor(\n",
      "[[[60 65 61]\n",
      "  [59 64 60]\n",
      "  [57 62 58]\n",
      "  ...\n",
      "  [74 76 73]\n",
      "  [72 74 71]\n",
      "  [74 76 73]]\n",
      "\n",
      " [[60 65 61]\n",
      "  [63 68 64]\n",
      "  [64 69 65]\n",
      "  ...\n",
      "  [80 82 79]\n",
      "  [82 84 81]\n",
      "  [86 88 85]]\n",
      "\n",
      " [[63 68 64]\n",
      "  [70 75 71]\n",
      "  [75 80 76]\n",
      "  ...\n",
      "  [86 88 87]\n",
      "  [90 92 91]\n",
      "  [97 99 98]]\n",
      "\n",
      " ...\n",
      "\n",
      " [[32 28 25]\n",
      "  [38 34 31]\n",
      "  [42 38 35]\n",
      "  ...\n",
      "  [25 17  6]\n",
      "  [58 48 38]\n",
      "  [98 88 78]]\n",
      "\n",
      " [[31 27 24]\n",
      "  [38 34 31]\n",
      "  [44 40 37]\n",
      "  ...\n",
      "  [29 21 10]\n",
      "  [50 40 30]\n",
      "  [82 72 62]]\n",
      "\n",
      " [[31 30 26]\n",
      "  [38 37 33]\n",
      "  [44 43 39]\n",
      "  ...\n",
      "  [42 33 24]\n",
      "  [46 37 28]\n",
      "  [66 57 48]]], shape=(733, 1024, 3), dtype=uint8)\n",
      "(733, 1024, 3)\n",
      "tf.Tensor(\n",
      "[[[60. 65. 61.]\n",
      "  [59. 64. 60.]\n",
      "  [57. 62. 58.]\n",
      "  ...\n",
      "  [74. 76. 73.]\n",
      "  [72. 74. 71.]\n",
      "  [74. 76. 73.]]\n",
      "\n",
      " [[60. 65. 61.]\n",
      "  [63. 68. 64.]\n",
      "  [64. 69. 65.]\n",
      "  ...\n",
      "  [80. 82. 79.]\n",
      "  [82. 84. 81.]\n",
      "  [86. 88. 85.]]\n",
      "\n",
      " [[63. 68. 64.]\n",
      "  [70. 75. 71.]\n",
      "  [75. 80. 76.]\n",
      "  ...\n",
      "  [86. 88. 87.]\n",
      "  [90. 92. 91.]\n",
      "  [97. 99. 98.]]\n",
      "\n",
      " ...\n",
      "\n",
      " [[32. 28. 25.]\n",
      "  [38. 34. 31.]\n",
      "  [42. 38. 35.]\n",
      "  ...\n",
      "  [25. 17.  6.]\n",
      "  [58. 48. 38.]\n",
      "  [98. 88. 78.]]\n",
      "\n",
      " [[31. 27. 24.]\n",
      "  [38. 34. 31.]\n",
      "  [44. 40. 37.]\n",
      "  ...\n",
      "  [29. 21. 10.]\n",
      "  [50. 40. 30.]\n",
      "  [82. 72. 62.]]\n",
      "\n",
      " [[31. 30. 26.]\n",
      "  [38. 37. 33.]\n",
      "  [44. 43. 39.]\n",
      "  ...\n",
      "  [42. 33. 24.]\n",
      "  [46. 37. 28.]\n",
      "  [66. 57. 48.]]], shape=(733, 1024, 3), dtype=float32)\n"
     ]
    },
    {
     "ename": "",
     "evalue": "",
     "output_type": "error",
     "traceback": [
      "\u001b[1;31mCanceled future for execute_request message before replies were done"
     ]
    },
    {
     "ename": "",
     "evalue": "",
     "output_type": "error",
     "traceback": [
      "\u001b[1;31mThe Kernel crashed while executing code in the the current cell or a previous cell. Please review the code in the cell(s) to identify a possible cause of the failure. Click <a href='https://aka.ms/vscodeJupyterKernelCrash'>here</a> for more info. View Jupyter <a href='command:jupyter.viewOutput'>log</a> for further details."
     ]
    }
   ],
   "source": [
    "# Carrega a imagem em um tensor\n",
    "img = tf.io.read_file(\"dataset\\images\\images\\Alfred_Sisley\\Alfred_Sisley_1.jpg\")\n",
    "img = tf.image.decode_jpeg(img, channels=3)\n",
    "\n",
    "print(img.shape)\n",
    "print(img)\n",
    "# Redimensiona a imagem para um tamanho fixo\n",
    "img = tf.image.resize(img, [733, 1024])\n",
    "print(img.shape)\n",
    "print(img)\n",
    "#tensor to image\n",
    "# img = tf.image.convert_image_dtype(img, tf.float32)\n",
    "# img = tf.keras.preprocessing.image.array_to_img(img)\n",
    "img = tf.image.convert_image_dtype(img, tf.uint8)\n",
    "img = tf.keras.preprocessing.image.array_to_img(img)\n",
    "\n",
    "\n",
    "\n",
    "# img = tf.image.convert_image_dtype(img, tf.float32)\n",
    "\n",
    "# Exibe a imagem\n",
    "# display.display(PIL.Image.fromarray(img.numpy()))\n",
    "plt.imshow(img)\n",
    "plt.show()"
   ]
  }
 ],
 "metadata": {
  "kernelspec": {
   "display_name": "RecArt",
   "language": "python",
   "name": "python3"
  },
  "language_info": {
   "codemirror_mode": {
    "name": "ipython",
    "version": 3
   },
   "file_extension": ".py",
   "mimetype": "text/x-python",
   "name": "python",
   "nbconvert_exporter": "python",
   "pygments_lexer": "ipython3",
   "version": "3.8.16"
  },
  "orig_nbformat": 4,
  "vscode": {
   "interpreter": {
    "hash": "8ca9f1cfb2212211f3066675edb4a7b6f01c7cfbab6add3b0c84ad02a0b2ce93"
   }
  }
 },
 "nbformat": 4,
 "nbformat_minor": 2
}
