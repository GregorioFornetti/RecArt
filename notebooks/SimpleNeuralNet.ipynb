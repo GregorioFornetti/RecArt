{
 "cells": [
  {
   "cell_type": "code",
   "execution_count": null,
   "metadata": {},
   "outputs": [],
   "source": []
  }
 ],
 "metadata": {
  "kernelspec": {
   "display_name": "RecArt",
   "language": "python",
   "name": "python3"
  },
  "language_info": {
   "name": "python",
   "version": "3.8.16"
  },
  "orig_nbformat": 4,
  "vscode": {
   "interpreter": {
    "hash": "8ca9f1cfb2212211f3066675edb4a7b6f01c7cfbab6add3b0c84ad02a0b2ce93"
   }
  }
 },
 "nbformat": 4,
 "nbformat_minor": 2
}
