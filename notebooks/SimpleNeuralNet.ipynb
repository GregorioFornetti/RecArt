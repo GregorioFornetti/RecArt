{
 "cells": [
  {
   "cell_type": "code",
   "execution_count": 1,
   "metadata": {},
   "outputs": [],
   "source": [
    "import sys\n",
    "sys.path.append(\"..\")\n",
    "from src.models.utils.dataset_preprocess import preprocess_dataset\n",
    "from src.models.classification_models.SimpleNeuralNetwork import SimpleNeuralNetwork"
   ]
  },
  {
   "cell_type": "code",
   "execution_count": 2,
   "metadata": {},
   "outputs": [],
   "source": [
    "preprocess_dataset()"
   ]
  },
  {
   "cell_type": "code",
   "execution_count": 3,
   "metadata": {},
   "outputs": [],
   "source": [
    "model = SimpleNeuralNetwork(load=False)"
   ]
  },
  {
   "cell_type": "code",
   "execution_count": 4,
   "metadata": {},
   "outputs": [
    {
     "name": "stdout",
     "output_type": "stream",
     "text": [
      "Found 8023 validated image filenames.\n",
      "Epoch 1/10\n",
      "251/251 [==============================] - 428s 2s/step - loss: 0.1830 - accuracy: 0.2402\n",
      "Epoch 2/10\n",
      "251/251 [==============================] - 353s 1s/step - loss: 0.1543 - accuracy: 0.3271\n",
      "Epoch 3/10\n",
      "251/251 [==============================] - 343s 1s/step - loss: 0.1276 - accuracy: 0.4581\n",
      "Epoch 4/10\n",
      " 56/251 [=====>........................] - ETA: 4:40 - loss: 0.0900 - accuracy: 0.6328"
     ]
    }
   ],
   "source": [
    "classes_metrics, agg_metrics = model.fit_and_test()"
   ]
  },
  {
   "cell_type": "code",
   "execution_count": null,
   "metadata": {},
   "outputs": [],
   "source": [
    "classes_metrics"
   ]
  },
  {
   "cell_type": "code",
   "execution_count": null,
   "metadata": {},
   "outputs": [],
   "source": [
    "agg_metrics"
   ]
  },
  {
   "cell_type": "code",
   "execution_count": null,
   "metadata": {},
   "outputs": [],
   "source": [
    "model.fit_full()"
   ]
  },
  {
   "cell_type": "code",
   "execution_count": null,
   "metadata": {},
   "outputs": [],
   "source": [
    "model.save_imgs_predictions()"
   ]
  },
  {
   "cell_type": "code",
   "execution_count": null,
   "metadata": {},
   "outputs": [],
   "source": [
    "model.get_imgs_predictions()"
   ]
  },
  {
   "cell_type": "code",
   "execution_count": null,
   "metadata": {},
   "outputs": [],
   "source": []
  }
 ],
 "metadata": {
  "kernelspec": {
   "display_name": "RecArt",
   "language": "python",
   "name": "python3"
  },
  "language_info": {
   "codemirror_mode": {
    "name": "ipython",
    "version": 3
   },
   "file_extension": ".py",
   "mimetype": "text/x-python",
   "name": "python",
   "nbconvert_exporter": "python",
   "pygments_lexer": "ipython3",
   "version": "3.8.16"
  },
  "orig_nbformat": 4,
  "vscode": {
   "interpreter": {
    "hash": "8ca9f1cfb2212211f3066675edb4a7b6f01c7cfbab6add3b0c84ad02a0b2ce93"
   }
  }
 },
 "nbformat": 4,
 "nbformat_minor": 2
}
