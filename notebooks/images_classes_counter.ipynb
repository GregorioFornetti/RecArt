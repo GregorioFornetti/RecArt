{
 "cells": [
  {
   "cell_type": "code",
   "execution_count": 3,
   "metadata": {},
   "outputs": [],
   "source": [
    "import sys\n",
    "sys.path.append(\"..\")\n",
    "from src.models.utils.dataset_preprocess import preprocess_dataset\n",
    "from src.models.utils.functions import load_arts_dataset, load_possible_genres"
   ]
  },
  {
   "cell_type": "code",
   "execution_count": 4,
   "metadata": {},
   "outputs": [],
   "source": [
    "preprocess_dataset()"
   ]
  },
  {
   "cell_type": "code",
   "execution_count": 5,
   "metadata": {},
   "outputs": [],
   "source": [
    "df_arts = load_arts_dataset()"
   ]
  },
  {
   "cell_type": "code",
   "execution_count": 6,
   "metadata": {},
   "outputs": [
    {
     "data": {
      "text/plain": [
       "Byzantine Art               99\n",
       "Abstractionism             276\n",
       "Impressionism             1931\n",
       "Art Nouveau                117\n",
       "Suprematism                126\n",
       "Romanticism                388\n",
       "Abstract Expressionism      24\n",
       "Realism                    149\n",
       "Early Renaissance          164\n",
       "Pop Art                    181\n",
       "Northern Renaissance       680\n",
       "Cubism                     439\n",
       "Mannerism                  342\n",
       "Post-Impressionism        1636\n",
       "Muralism                    70\n",
       "Proto Renaissance          119\n",
       "Social Realism              70\n",
       "Symbolism                  666\n",
       "Surrealism                 743\n",
       "Baroque                    586\n",
       "Neoplasticism               84\n",
       "Expressionism              536\n",
       "Primitivism                429\n",
       "High Renaissance           556\n",
       "dtype: int64"
      ]
     },
     "execution_count": 6,
     "metadata": {},
     "output_type": "execute_result"
    }
   ],
   "source": [
    "df_arts[load_possible_genres()].sum()"
   ]
  }
 ],
 "metadata": {
  "kernelspec": {
   "display_name": "RecArt",
   "language": "python",
   "name": "python3"
  },
  "language_info": {
   "codemirror_mode": {
    "name": "ipython",
    "version": 3
   },
   "file_extension": ".py",
   "mimetype": "text/x-python",
   "name": "python",
   "nbconvert_exporter": "python",
   "pygments_lexer": "ipython3",
   "version": "3.8.16"
  },
  "orig_nbformat": 4
 },
 "nbformat": 4,
 "nbformat_minor": 2
}
